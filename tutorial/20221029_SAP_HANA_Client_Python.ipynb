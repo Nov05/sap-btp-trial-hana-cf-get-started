{
  "nbformat": 4,
  "nbformat_minor": 0,
  "metadata": {
    "colab": {
      "provenance": [],
      "collapsed_sections": []
    },
    "kernelspec": {
      "name": "python3",
      "display_name": "Python 3"
    },
    "language_info": {
      "name": "python"
    }
  },
  "cells": [
    {
      "cell_type": "markdown",
      "source": [
        "*Notebook created by Wenjing Liu on 2022-10-29*  \n",
        "\n",
        "**Use Clients to Query an SAP HANA Database >**    \n",
        "# **Connect Using the SAP HANA Python Interface**   \n",
        "https://developers.sap.com/tutorials/hana-clients-python.html  \n"
      ],
      "metadata": {
        "id": "EX52dEN5l1d2"
      }
    },
    {
      "cell_type": "code",
      "execution_count": null,
      "metadata": {
        "colab": {
          "base_uri": "https://localhost:8080/"
        },
        "id": "arf0pKgxluvl",
        "outputId": "c7801acc-6c3f-490e-8734-96ae45ebd761"
      },
      "outputs": [
        {
          "output_type": "stream",
          "name": "stdout",
          "text": [
            "Looking in indexes: https://pypi.org/simple, https://us-python.pkg.dev/colab-wheels/public/simple/\n",
            "Requirement already satisfied: hdbcli in /usr/local/lib/python3.7/dist-packages (2.14.22)\n"
          ]
        }
      ],
      "source": [
        "!pip install hdbcli"
      ]
    },
    {
      "cell_type": "code",
      "source": [
        "!pip install --no-cache-dir --upgrade hdbcli"
      ],
      "metadata": {
        "colab": {
          "base_uri": "https://localhost:8080/"
        },
        "id": "SYNnovjolwGm",
        "outputId": "334641e1-d2d7-4a26-e9e9-24b095d42117"
      },
      "execution_count": null,
      "outputs": [
        {
          "output_type": "stream",
          "name": "stdout",
          "text": [
            "Looking in indexes: https://pypi.org/simple, https://us-python.pkg.dev/colab-wheels/public/simple/\n",
            "Requirement already satisfied: hdbcli in /usr/local/lib/python3.7/dist-packages (2.14.22)\n"
          ]
        }
      ]
    },
    {
      "cell_type": "code",
      "source": [
        "!pip show hdbcli"
      ],
      "metadata": {
        "colab": {
          "base_uri": "https://localhost:8080/"
        },
        "id": "Sl92yi42mfNg",
        "outputId": "fc6d1d40-4a68-4e3d-c9db-ec1dbccb709a"
      },
      "execution_count": null,
      "outputs": [
        {
          "output_type": "stream",
          "name": "stdout",
          "text": [
            "Name: hdbcli\n",
            "Version: 2.14.22\n",
            "Summary: SAP HANA Python Client\n",
            "Home-page: https://www.sap.com/\n",
            "Author: SAP SE\n",
            "Author-email: None\n",
            "License: SAP DEVELOPER LICENSE AGREEMENT\n",
            "Location: /usr/local/lib/python3.7/dist-packages\n",
            "Requires: \n",
            "Required-by: \n"
          ]
        }
      ]
    },
    {
      "cell_type": "markdown",
      "source": [
        "Install the SAP HANA Client  \n",
        "https://developers.sap.com/tutorials/hana-clients-install.html  \n",
        "Create a User, Tables and Import Data Using SAP HANA HDBSQL  \n",
        "https://developers.sap.com/tutorials/hana-clients-hdbsql.html  \n",
        "\n",
        "There is a user agreement to sign, hence not able to use !wget.  \n",
        "Manually download **hanaclient-latest-linux-x64.tar.gz** (180MB) and upload it to Colab folder /content.   \n",
        "If you get the following error when unzipping the file, it means your file isn't downloaded properly.  \n",
        "```\n",
        "gzip: stdin: not in gzip format\n",
        "tar: Child returned status 1\n",
        "tar: Error is not recoverable: exiting now\n",
        "```"
      ],
      "metadata": {
        "id": "jOTTxXtGouc-"
      }
    },
    {
      "cell_type": "code",
      "source": [
        "!tar -zxvf hanaclient*.tar.gz"
      ],
      "metadata": {
        "colab": {
          "base_uri": "https://localhost:8080/"
        },
        "id": "BEB7Rd3zpQ4p",
        "outputId": "39a0aba2-2e17-4640-a991-4f66d554bab3"
      },
      "execution_count": null,
      "outputs": [
        {
          "output_type": "stream",
          "name": "stdout",
          "text": [
            "client/\n",
            "client/LABEL.ASC\n",
            "client/README.html\n",
            "client/SIGNATURE.SMF\n",
            "client/client/\n",
            "client/client/CALCVIEWAPI.TGZ\n",
            "client/client/CALCVIEWAPI.TGZ.lst\n",
            "client/client/CLIENTINST.TGZ\n",
            "client/client/CLIENTINST.TGZ.lst\n",
            "client/client/DBCAPI.TGZ\n",
            "client/client/DBCAPI.TGZ.lst\n",
            "client/client/DOTNETCORE.DEBUG.TGZ\n",
            "client/client/DOTNETCORE.DEBUG.TGZ.lst\n",
            "client/client/DOTNETCORE.TGZ\n",
            "client/client/DOTNETCORE.TGZ.lst\n",
            "client/client/ENVSCRIPT.TGZ\n",
            "client/client/ENVSCRIPT.TGZ.lst\n",
            "client/client/EXAMPLES.TGZ\n",
            "client/client/EXAMPLES.TGZ.lst\n",
            "client/client/GOLANG.TGZ\n",
            "client/client/GOLANG.TGZ.lst\n",
            "client/client/HALMCLI.TGZ\n",
            "client/client/HALMCLI.TGZ.lst\n",
            "client/client/HANAMLR.TGZ\n",
            "client/client/HANAMLR.TGZ.lst\n",
            "client/client/InstallParams.xml\n",
            "client/client/JDBC.TGZ\n",
            "client/client/JDBC.TGZ.lst\n",
            "client/client/NODEJS.TGZ\n",
            "client/client/NODEJS.TGZ.lst\n",
            "client/client/ODBC.TGZ\n",
            "client/client/ODBC.TGZ.lst\n",
            "client/client/PYDBAPI.TGZ\n",
            "client/client/PYDBAPI.TGZ.lst\n",
            "client/client/PYDBAPIML.TGZ\n",
            "client/client/PYDBAPIML.TGZ.lst\n",
            "client/client/REPOTOOLS.TGZ\n",
            "client/client/REPOTOOLS.TGZ.lst\n",
            "client/client/RUBY.TGZ\n",
            "client/client/RUBY.TGZ.lst\n",
            "client/client/SAPSYSMF.TGZ\n",
            "client/client/SAPSYSMF.TGZ.lst\n",
            "client/client/SQLDBC.TGZ\n",
            "client/client/SQLDBC.TGZ.lst\n",
            "client/client/installcfg.dtd\n",
            "client/client/manifest\n",
            "client/filelist.clientinst\n",
            "client/hdbclientreg\n",
            "client/hdbinst\n",
            "client/hdbsetup\n",
            "client/hdbuninst\n",
            "client/instruntime/\n",
            "client/instruntime/Base64.so\n",
            "client/instruntime/Carp.pm\n",
            "client/instruntime/Cwd.so\n",
            "client/instruntime/DND.so\n",
            "client/instruntime/Dumper.so\n",
            "client/instruntime/Encode.so\n",
            "client/instruntime/Exporter/\n",
            "client/instruntime/Exporter/Heavy.pm\n",
            "client/instruntime/Exporter.pm\n",
            "client/instruntime/FCGI.so\n",
            "client/instruntime/Getopt/\n",
            "client/instruntime/Getopt/Long.pm\n",
            "client/instruntime/Grid.so\n",
            "client/instruntime/HiRes.so\n",
            "client/instruntime/IO.so\n",
            "client/instruntime/LibXML.so\n",
            "client/instruntime/Parser.so\n",
            "client/instruntime/SHA.so\n",
            "client/instruntime/SQLDBC.so\n",
            "client/instruntime/SSH2.so\n",
            "client/instruntime/SSLeay.so\n",
            "client/instruntime/Socket.so\n",
            "client/instruntime/Wx.so\n",
            "client/instruntime/constant.pm\n",
            "client/instruntime/lcm_pm.tgz\n",
            "client/instruntime/lcm_pm_ext.tgz\n",
            "client/instruntime/lcm_res.tgz\n",
            "client/instruntime/libSQLDBCHDB.so\n",
            "client/instruntime/libperl.so\n",
            "client/instruntime/libsdbrun.so\n",
            "client/instruntime/libwx_gtk2u-3.0.so.0\n",
            "client/instruntime/overload.pm\n",
            "client/instruntime/overloading.pm\n",
            "client/instruntime/sdbrun\n",
            "client/instruntime/strict.pm\n",
            "client/instruntime/vars.pm\n",
            "client/instruntime/version/\n",
            "client/instruntime/version/regex.pm\n",
            "client/instruntime/version.pm\n",
            "client/instruntime/warnings/\n",
            "client/instruntime/warnings/register.pm\n",
            "client/instruntime/warnings.pm\n",
            "client/licenses/\n",
            "client/licenses/intel_bid.txt\n",
            "client/licenses/lz4.txt\n",
            "client/licenses/poco.txt\n"
          ]
        }
      ]
    },
    {
      "cell_type": "code",
      "source": [
        "!client/hdbinst"
      ],
      "metadata": {
        "colab": {
          "base_uri": "https://localhost:8080/"
        },
        "id": "DhtTKsga-nxr",
        "outputId": "5e6963d5-8f08-4322-ffc1-8d873393a02d"
      },
      "execution_count": null,
      "outputs": [
        {
          "output_type": "stream",
          "name": "stdout",
          "text": [
            "SAP HANA Database Client installation kit detected.\n",
            "\n",
            "\n",
            "SAP HANA Lifecycle Management - Client Installation 2.14.18.1660318318\n",
            "**********************************************************************\n",
            "\n",
            "\n",
            "Select a SAP HANA Database Client installation:\n",
            "\n",
            "No  | Installation Path                    | Version            | Mode\n",
            "-----------------------------------------------------------------------\n",
            "[1] | /usr/sap/hdbclient                   | 2.14.18.1660318318 | 64bit\n",
            "    |                                      |                    |  \n",
            " 2  | Install new SAP HANA Database Client | 2.14.18.1660318318 | 64bit\n",
            "\n",
            "Enter number [1]: 1\n",
            "\n",
            "Checking installation...\n",
            "Preparing package 'Product Manifest'...\n",
            "Preparing package 'SQLDBC'...\n",
            "Preparing package 'REPOTOOLS'...\n",
            "Preparing package 'Python DB API'...\n",
            "Preparing package 'Python Machine Learning Client'...\n",
            "Preparing package 'ODBC'...\n",
            "Preparing package 'R Machine Learning Client'...\n",
            "Preparing package 'JDBC'...\n",
            "Preparing package 'HALM Client'...\n",
            "Preparing package 'DBCAPI'...\n",
            "Preparing package 'node.js Client'...\n",
            "Preparing package 'golang Client'...\n",
            "Preparing package 'Ruby Client'...\n",
            "Preparing package 'Code Examples'...\n",
            "Preparing package '.NET Core'...\n",
            "Preparing package 'Environment Script'...\n",
            "Preparing package 'Client Installer'...\n",
            "Preparing package 'Calculation View API'...\n",
            "Installing SAP HANA Database Client to /usr/sap/hdbclient...\n",
            "Installation done\n",
            "Log file written to '/var/tmp/hdb_client_2022-10-29_09.42.05_1133/hdbinst_client.log' on host '31b2b8ecb6d3'.\n"
          ]
        }
      ]
    },
    {
      "cell_type": "code",
      "source": [
        "## set environment variable HDB_CLIENT_HOME and will add it to the $PATH in your session\n",
        "!source /usr/sap/hdbclient/hdbclienv.sh"
      ],
      "metadata": {
        "colab": {
          "base_uri": "https://localhost:8080/"
        },
        "id": "c4ZAWelU_vlm",
        "outputId": "e991e42b-b264-4bc1-c7bb-1475777b355a"
      },
      "execution_count": null,
      "outputs": [
        {
          "output_type": "stream",
          "name": "stdout",
          "text": [
            "**********************************************************************\n",
            "Copyright (c) SAP SE or an SAP affiliate company. All rights reserved.\n",
            "**********************************************************************\n",
            "\n"
          ]
        }
      ]
    },
    {
      "cell_type": "code",
      "source": [
        "# !export PATH=$PATH:/usr/sap/hdbclient ## doesn't work\n",
        "!echo $PATH\n",
        "import os\n",
        "os.environ['PATH'] += \":/usr/sap/hdbclient\"\n",
        "!echo $PATH\n",
        "# !printenv PATH\n",
        "# !env $PATH"
      ],
      "metadata": {
        "colab": {
          "base_uri": "https://localhost:8080/"
        },
        "id": "rJQo3QU5FdIY",
        "outputId": "6bf2b387-5260-43bd-f4b3-5eb021376d71"
      },
      "execution_count": null,
      "outputs": [
        {
          "output_type": "stream",
          "name": "stdout",
          "text": [
            "/opt/bin:/usr/local/nvidia/bin:/usr/local/cuda/bin:/usr/local/sbin:/usr/local/bin:/usr/sbin:/usr/bin:/sbin:/bin:/tools/node/bin:/tools/google-cloud-sdk/bin\n",
            "/opt/bin:/usr/local/nvidia/bin:/usr/local/cuda/bin:/usr/local/sbin:/usr/local/bin:/usr/sbin:/usr/bin:/sbin:/bin:/tools/node/bin:/tools/google-cloud-sdk/bin:/usr/sap/hdbclient\n"
          ]
        }
      ]
    },
    {
      "cell_type": "code",
      "source": [
        "!hdbuserstore Set DEV01UserKey 9d92a8f0-2ce2-4e39-8016-997da0920fdc.hana.trial-us10.hanacloud.ondemand.com:443 <DBUserID> <Password>\n",
        "!hdbuserstore List"
      ],
      "metadata": {
        "colab": {
          "base_uri": "https://localhost:8080/"
        },
        "id": "wtxD4Uo4oYs4",
        "outputId": "5ae8923a-6762-4c71-b143-f1965e095af0"
      },
      "execution_count": null,
      "outputs": [
        {
          "output_type": "stream",
          "name": "stdout",
          "text": [
            "Operation succeed.\n",
            "DATA FILE       : /root/.hdb/31b2b8ecb6d3/SSFS_HDB.DAT\n",
            "KEY FILE        : /root/.hdb/31b2b8ecb6d3/SSFS_HDB.KEY\n",
            "\n",
            "ACTIVE RECORDS  : 4\n",
            "DELETED RECORDS : 0\n",
            "\n",
            "\n",
            "KEY DEV01USERKEY\n",
            "  ENV : 9d92a8f0-2ce2-4e39-8016-997da0920fdc.hana.trial-us10.hanacloud.ondemand.com:443\n",
            "  USER: DEV01\n",
            "Operation succeed.\n"
          ]
        }
      ]
    },
    {
      "cell_type": "markdown",
      "source": [
        "If you have stored the login information in **DEV01UserKey**, choose option 1.  \n",
        "Or option 2, add address, port, user, password in the following code block.   "
      ],
      "metadata": {
        "id": "W001YPHfxXei"
      }
    },
    {
      "cell_type": "code",
      "source": [
        "%%writefile pythonQuery.py\n",
        "#Import your dependencies\n",
        "import platform\n",
        "from hdbcli import dbapi\n",
        "\n",
        "#verify the architecture of Python\n",
        "print (\"Platform architecture: \" + platform.architecture()[0])\n",
        "\n",
        "#Initialize your connection\n",
        "conn = dbapi.connect(\n",
        "    #Option 1, retrieve the connection parameters from the hdbuserstore\n",
        "    key='DEV01UserKey', # address, port, user and password are retrieved from the hdbuserstore\n",
        "\n",
        "    #Option2, specify the connection parameters\n",
        "    #address='9d92a8f0-2ce2-4e39-8016-997da0920fdc.hana.trial-us10.hanacloud.ondemand.com',\n",
        "    #port='443',\n",
        "    #user='',\n",
        "    #password='',\n",
        "\n",
        "    #Additional parameters\n",
        "    encrypt=True, # must be set to True when connecting to HANA as a Service\n",
        "    #As of SAP HANA Client 2.6, connections on port 443 enable encryption by default (HANA Cloud)\n",
        "    #sslValidateCertificate=False #Must be set to false when connecting\n",
        "    #to an SAP HANA, express edition instance that uses a self-signed certificate.\n",
        ")\n",
        "#If no errors, print connected\n",
        "print('connected')\n",
        "\n",
        "cursor = conn.cursor()\n",
        "sql_command = \"select TITLE, FIRSTNAME, NAME from HOTEL.CUSTOMER;\"\n",
        "cursor.execute(sql_command)\n",
        "rows = cursor.fetchall()\n",
        "for row in rows:\n",
        "    for col in row:\n",
        "        print (\"%s\" % col, end=\" \")\n",
        "    print (\"  \")\n",
        "cursor.close()\n",
        "print(\"\\n\")\n",
        "\n",
        "#Prepared statement example\n",
        "sql_command2 = \"call HOTEL.SHOW_RESERVATIONS(?,?);\"\n",
        "parameters = [11, \"2020-12-24\"]\n",
        "cursor.execute(sql_command2, parameters)\n",
        "rows = cursor.fetchall()\n",
        "for row in rows:\n",
        "    for col in row:\n",
        "        print (\"%s\" % col, end=\" \")\n",
        "    print (\" \")\n",
        "cursor.close()\n",
        "conn.close()"
      ],
      "metadata": {
        "colab": {
          "base_uri": "https://localhost:8080/"
        },
        "id": "7ZbgvKSomoFj",
        "outputId": "a0dfb9ca-586d-40f7-ae32-61c611276834"
      },
      "execution_count": null,
      "outputs": [
        {
          "output_type": "stream",
          "name": "stdout",
          "text": [
            "Overwriting pythonQuery.py\n"
          ]
        }
      ]
    },
    {
      "cell_type": "markdown",
      "source": [
        "you should be able to see the following output.  \n",
        "```\n",
        "Platform architecture: 64bit\n",
        "connected\n",
        "Mrs Jenny Porter   \n",
        "Mr Peter Brown   \n",
        "Company None Datasoft   \n",
        "Mrs Rose Brian   \n",
        "Mrs Mary Griffith   \n",
        "Mr Martin Randolph   \n",
        "Mrs Sally Smith   \n",
        "Mr Mike Jackson   \n",
        "Mrs Rita Doe   \n",
        "Mr George Howe   \n",
        "Mr Frank Miller   \n",
        "Mrs Susan Baker   \n",
        "Mr Joseph Peters   \n",
        "Company None TOOLware   \n",
        "Mr Antony Jenkins   \n",
        "\n",
        "1 2020-12-24 3 Regency Mrs Jenny Porter  \n",
        "2 2020-12-24 10 Regency Mr Peter Brown  \n",
        "```"
      ],
      "metadata": {
        "id": "X_ehCsdaCKFx"
      }
    },
    {
      "cell_type": "code",
      "source": [
        "!python3 pythonQuery.py"
      ],
      "metadata": {
        "colab": {
          "base_uri": "https://localhost:8080/"
        },
        "id": "51sDUK4dnmnx",
        "outputId": "9eff650a-ca45-43b0-e679-b886efcd961c"
      },
      "execution_count": null,
      "outputs": [
        {
          "output_type": "stream",
          "name": "stdout",
          "text": [
            "Platform architecture: 64bit\n",
            "connected\n",
            "Mrs Jenny Porter   \n",
            "Mr Peter Brown   \n",
            "Company None Datasoft   \n",
            "Mrs Rose Brian   \n",
            "Mrs Mary Griffith   \n",
            "Mr Martin Randolph   \n",
            "Mrs Sally Smith   \n",
            "Mr Mike Jackson   \n",
            "Mrs Rita Doe   \n",
            "Mr George Howe   \n",
            "Mr Frank Miller   \n",
            "Mrs Susan Baker   \n",
            "Mr Joseph Peters   \n",
            "Company None TOOLware   \n",
            "Mr Antony Jenkins   \n",
            "\n",
            "\n",
            "1 2020-12-24 3 Regency Mrs Jenny Porter  \n",
            "2 2020-12-24 10 Regency Mr Peter Brown  \n"
          ]
        }
      ]
    },
    {
      "cell_type": "code",
      "source": [],
      "metadata": {
        "id": "VVdXRJjQnvQf"
      },
      "execution_count": null,
      "outputs": []
    }
  ]
}